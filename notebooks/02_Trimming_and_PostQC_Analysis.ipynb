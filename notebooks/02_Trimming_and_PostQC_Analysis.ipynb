{
 "cells": [
  {
   "cell_type": "markdown",
   "id": "6c033e5c-f6a3-4e98-a2ef-8d721f8b2dc0",
   "metadata": {},
   "source": [
    "# MAJOR STEP 2: Data Trimming & Post-QC Verification\n",
    "\n",
    "**Goal:** Clean the raw reads from adapter contamination and verify the success of the cleaning process.\n",
    "\n",
    "**Why:** The analysis in `01_PreQC_Analysis.ipynb` revealed significant adapter contamination in our 96 samples. We cannot proceed to Mapping (Phase 5) with contaminated data. This notebook documents the \"Treatment\" (Trimming) and \"Verification\" (Post-QC) steps."
   ]
  },
  {
   "cell_type": "markdown",
   "id": "8f551695-2a06-432f-beab-a31a58ea061b",
   "metadata": {},
   "source": [
    "##  1: Handoff to \"The Factory\" (Trimming)\n",
    "\n",
    "**The Handoff (Done):**\n",
    "To solve the contamination, we added the `rule fastp_trimming` to our main `Snakefile` to automate the cleaning process. We then executed this high-throughput job from the terminal.\n",
    "\n",
    "**Result:** 192 clean `.fastq.gz` files were created in `results/trimmed_reads/`."
   ]
  },
  {
   "cell_type": "code",
   "execution_count": null,
   "id": "2e180d7f-cd31-4131-bf6f-31c1243275f6",
   "metadata": {},
   "outputs": [],
   "source": [
    "# --- Verification Code (Rule 1) ---\n",
    "# We are in 'notebooks/', so we check '../results/'\n",
    "\n",
    "import os\n",
    "\n",
    "print(\"--- Verifying Trimming (Phase 3) Outputs ---\")\n",
    "\n",
    "# 1. Check the target directory\n",
    "dir_path = \"../results/trimmed_reads/\"\n",
    "exists = os.path.exists(dir_path)\n",
    "print(f\"Directory {dir_path} exists: {exists}\")\n",
    "\n",
    "# 2. Count the files\n",
    "# (This code is safer than !ls in a notebook)\n",
    "if exists:\n",
    "    files = os.listdir(dir_path)\n",
    "    # We expect 192 files (.fastq.gz)\n",
    "    file_count = len(files)\n",
    "    print(f\"File count in directory: {file_count}\")\n",
    "    \n",
    "    if file_count == 192:\n",
    "        print(\"VERIFICATION SUCCESS: 192 trimmed files found.\")\n",
    "    else:\n",
    "        print(f\"VERIFICATION FAILED: Expected 192, but found {file_count}.\")\n",
    "\n",
    "    # 3. Show a sample of the files\n",
    "    print(\"\\nSample of files found:\")\n",
    "    for f in files[:5]: # Show first 5\n",
    "        print(f\"  - {f}\")"
   ]
  },
  {
   "cell_type": "markdown",
   "id": "05998ed0-557d-47a0-9ae6-67b56315a3f7",
   "metadata": {},
   "source": [
    "##  2: Verification (Post-QC)\n",
    "\n",
    "**The Handoff (Done):**\n",
    "To verify the cleaning, we also added the `rule multiqc_fastp` to the `Snakefile` to aggregate all the new `fastp` reports. We executed this aggregation rule from the terminal.\n",
    "\n",
    "**Result:** A new master report was created: `results/qc/multiqc_report_fastp.html`."
   ]
  },
  {
   "cell_type": "code",
   "execution_count": null,
   "id": "6411f60e-046c-476d-9587-6321b8b8c946",
   "metadata": {},
   "outputs": [],
   "source": [
    "# --- Verification Code (Rule 1) ---\n",
    "from IPython.display import IFrame\n",
    "\n",
    "print(\"--- Verifying Post-QC (Phase 4) Output ---\")\n",
    "\n",
    "file_path = \"../results/qc/multiqc_report_fastp.html\"\n",
    "exists = os.path.exists(file_path)\n",
    "print(f\"Report file {file_path} exists: {exists}\")\n",
    "\n",
    "if exists:\n",
    "    print(\"\\nVERIFICATION SUCCESS. Displaying the report (Showroom):\")\n",
    "    # This displays the HTML report directly inside our notebook!\n",
    "    display(IFrame(src=file_path, width=900, height=600))\n",
    "else:\n",
    "    print(\"VERIFICATION FAILED: Report file not found.\")"
   ]
  },
  {
   "cell_type": "markdown",
   "id": "18a0f0f2-7acf-4dbd-b2b1-e60f74998bd8",
   "metadata": {},
   "source": [
    "## Conclusion \n",
    "\n",
    "**Status:** Success.\n",
    "The code cells above confirm that all 192 files from Phase 3 and the master report from Phase 4 were successfully created by the \"Factory\".\n",
    "\n",
    "**The Scientific Conclusion:**\n",
    "The `multiqc_report_fastp.html` report (displayed above) confirms that adapter contamination **has been successfully removed**.\n",
    "\n",
    "**Next Step (The Handoff):**\n",
    "Data Cleaning (Phases 1-4) is complete and documented. We are ready for **Phase 5: Mapping**."
   ]
  }
 ],
 "metadata": {
  "kernelspec": {
   "display_name": "Python 3 (ipykernel)",
   "language": "python",
   "name": "python3"
  },
  "language_info": {
   "codemirror_mode": {
    "name": "ipython",
    "version": 3
   },
   "file_extension": ".py",
   "mimetype": "text/x-python",
   "name": "python",
   "nbconvert_exporter": "python",
   "pygments_lexer": "ipython3",
   "version": "3.10.19"
  }
 },
 "nbformat": 4,
 "nbformat_minor": 5
}
