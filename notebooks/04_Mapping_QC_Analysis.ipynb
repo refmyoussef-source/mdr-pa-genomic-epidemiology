{
 "cells": [
  {
   "cell_type": "markdown",
   "id": "09ecaae7-17ff-41a2-b5b4-1c80100a8388",
   "metadata": {},
   "source": [
    "#  STEP 3: Mapping Quality Control (QC)\n",
    "\n",
    "**Goal:** Analyze the \"Mapping\" (Phase 5) results to ensure all 96 samples are high-quality before proceeding to \"Variant Calling\" (Phase 6).\n",
    "\n",
    "**Why:** The \"Factory\" (Snakefile) has successfully created 96 `.bam` files. We must now (Rule 1: Step-by-Step) verify their quality. We need to answer:\n",
    "1.  What is the average \"Mapping Rate\"? (Did most reads find their home?)\n",
    "2.  What is the average \"Coverage\"? (Do we have enough data per sample?)\n",
    "3.  Are there any \"failed\" samples (Outliers) that we must remove?"
   ]
  },
  {
   "cell_type": "markdown",
   "id": "c9360a3f-faf4-4e42-acf7-460215fc9c42",
   "metadata": {},
   "source": [
    "##  1: Handoff from \"The Factory\" (Mapping Stats)\n",
    "\n",
    "**The Handoff (Done):**\n",
    "To get these statistics, we first updated our `Snakefile` (V4.3) to add the `rule samtools_stats` and `rule multiqc_samtools_stats`. We then executed this new step from the terminal:\n",
    "\n",
    "```bash\n",
    "snakemake --cores 8 --rerun-triggers mtime"
   ]
  },
  {
   "cell_type": "code",
   "execution_count": 5,
   "id": "85dd3d66-cf74-450d-b5a1-8747d25dedc8",
   "metadata": {},
   "outputs": [
    {
     "name": "stdout",
     "output_type": "stream",
     "text": [
      "--- Verifying Mapping QC (Phase 5.d) Output ---\n",
      "Report file ../results/qc/mapping_stats/multiqc_mapping_stats.html exists: True\n",
      "\n",
      "VERIFICATION SUCCESS. Displaying the Mapping Stats report (Showroom):\n"
     ]
    },
    {
     "data": {
      "text/html": [
       "\n",
       "        <iframe\n",
       "            width=\"900\"\n",
       "            height=\"600\"\n",
       "            src=\"../results/qc/mapping_stats/multiqc_mapping_stats.html\"\n",
       "            frameborder=\"0\"\n",
       "            allowfullscreen\n",
       "            \n",
       "        ></iframe>\n",
       "        "
      ],
      "text/plain": [
       "<IPython.lib.display.IFrame at 0x7d69dd994e50>"
      ]
     },
     "metadata": {},
     "output_type": "display_data"
    }
   ],
   "source": [
    "# --- Verification & Showroom (Rule 2) ---\n",
    "from IPython.display import IFrame\n",
    "import os\n",
    "\n",
    "print(\"--- Verifying Mapping QC (Phase 5.d) Output ---\")\n",
    "\n",
    "# --- THE FIX ---\n",
    "# We are in the 'notebooks/' dir (based on os.getcwd()).\n",
    "# The file is \"one level up\" (../) in the 'results/' dir.\n",
    "file_path = \"../results/qc/mapping_stats/multiqc_mapping_stats.html\"\n",
    "# --- END FIX ---\n",
    "\n",
    "exists = os.path.exists(file_path)\n",
    "print(f\"Report file {file_path} exists: {exists}\")\n",
    "\n",
    "if exists:\n",
    "    print(\"\\nVERIFICATION SUCCESS. Displaying the Mapping Stats report (Showroom):\")\n",
    "    # This displays the HTML report directly inside our notebook!\n",
    "    display(IFrame(src=file_path, width=900, height=600))\n",
    "else:\n",
    "    print(\"VERIFICATION FAILED: Report file not found.\")"
   ]
  },
  {
   "cell_type": "markdown",
   "id": "18802c30-f278-4983-938e-2f18ac4449ce",
   "metadata": {},
   "source": [
    "## STEP 2: Scientific Analysis and Decision\n",
    "\n",
    "**(To be filled in after viewing the report in Cell 3)**\n",
    "\n",
    "**Goal:** Analyze the \"General Stats\" table (especially \"reads mapped %\") and the \"Coverage\" plots to look for any outlier samples.\n",
    "\n",
    "**Decision:**\n",
    "* [ ] (Pending Analysis) All 96 samples are high-quality and approved for Phase 6 (Variant Calling).\n",
    "* [ ] (Pending Analysis) The following samples are outliers and must be *removed* from the project: [LIST SAMPLES HERE]."
   ]
  },
  {
   "cell_type": "code",
   "execution_count": null,
   "id": "eb30f005-9158-44c0-8806-e074b485c0f4",
   "metadata": {},
   "outputs": [],
   "source": []
  }
 ],
 "metadata": {
  "kernelspec": {
   "display_name": "Python 3 (ipykernel)",
   "language": "python",
   "name": "python3"
  },
  "language_info": {
   "codemirror_mode": {
    "name": "ipython",
    "version": 3
   },
   "file_extension": ".py",
   "mimetype": "text/x-python",
   "name": "python",
   "nbconvert_exporter": "python",
   "pygments_lexer": "ipython3",
   "version": "3.10.19"
  }
 },
 "nbformat": 4,
 "nbformat_minor": 5
}
