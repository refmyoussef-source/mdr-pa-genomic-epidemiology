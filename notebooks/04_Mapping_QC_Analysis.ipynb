{
 "cells": [
  {
   "cell_type": "markdown",
   "id": "09ecaae7-17ff-41a2-b5b4-1c80100a8388",
   "metadata": {},
   "source": [
    "#  STEP 3: Mapping Quality Control (QC)\n",
    "\n",
    "**Goal:** Analyze the \"Mapping\" (Phase 5) results to ensure all 96 samples are high-quality before proceeding to \"Variant Calling\" (Phase 6).\n",
    "\n",
    "**Why:** The \"Factory\" (Snakefile) has successfully created 96 `.bam` files. We must now (Rule 1: Step-by-Step) verify their quality. We need to answer:\n",
    "1.  What is the average \"Mapping Rate\"? (Did most reads find their home?)\n",
    "2.  What is the average \"Coverage\"? (Do we have enough data per sample?)\n",
    "3.  Are there any \"failed\" samples (Outliers) that we must remove?"
   ]
  },
  {
   "cell_type": "markdown",
   "id": "c9360a3f-faf4-4e42-acf7-460215fc9c42",
   "metadata": {},
   "source": [
    "##  1: Handoff from \"The Factory\" (Mapping Stats)\n",
    "\n",
    "**The Handoff (Done):**\n",
    "To get these statistics, we first updated our `Snakefile` (V4.3) to add the `rule samtools_stats` and `rule multiqc_samtools_stats`. We then executed this new step from the terminal:\n",
    "\n",
    "```bash\n",
    "snakemake --cores 8 --rerun-triggers mtime"
   ]
  },
  {
   "cell_type": "code",
   "execution_count": null,
   "id": "85dd3d66-cf74-450d-b5a1-8747d25dedc8",
   "metadata": {},
   "outputs": [],
   "source": [
    "# --- Verification & Showroom (Rule 2) ---\n",
    "from IPython.display import IFrame\n",
    "import os\n",
    "\n",
    "print(\"--- Verifying Mapping QC (Phase 5.d) Output ---\")\n",
    "\n",
    "# --- THE FIX ---\n",
    "# We are in the 'notebooks/' dir (based on os.getcwd()).\n",
    "# The file is \"one level up\" (../) in the 'results/' dir.\n",
    "file_path = \"../results/qc/mapping_stats/multiqc_mapping_stats.html\"\n",
    "# --- END FIX ---\n",
    "\n",
    "exists = os.path.exists(file_path)\n",
    "print(f\"Report file {file_path} exists: {exists}\")\n",
    "\n",
    "if exists:\n",
    "    print(\"\\nVERIFICATION SUCCESS. Displaying the Mapping Stats report (Showroom):\")\n",
    "    # This displays the HTML report directly inside our notebook!\n",
    "    display(IFrame(src=file_path, width=900, height=600))\n",
    "else:\n",
    "    print(\"VERIFICATION FAILED: Report file not found.\")"
   ]
  },
  {
   "cell_type": "markdown",
   "id": "18802c30-f278-4983-938e-2f18ac4449ce",
   "metadata": {},
   "source": [
    "## STEP 2: Scientific Analysis and Decision\n",
    "\n",
    "**Analysis:**\n",
    "After displaying the report in `Cell 3`, we analyzed the key \"General Stats\" table.\n",
    "* **The \"Sort\":** We sorted the cohort by the `% Mapped` column.\n",
    "* **The Finding:** The vast majority of samples show excellent alignment rates (most >92%). However, we identified three clear statistical outliers at the bottom of the cohort.\n",
    "\n",
    "**Decision (The \"Handoff\" to Phase 6):**\n",
    "* [x] The following samples are outliers and **must be removed** from the project to ensure clean data for Variant Calling:\n",
    "    * **`PA033` (84.1%)**\n",
    "    * **`PA045` (83.8%)**\n",
    "    * **`PA070` (83.8%)**\n",
    "* [x] The remaining **93 samples** are high-quality and are approved to proceed to Phase 6 (Variant Calling)."
   ]
  }
 ],
 "metadata": {
  "kernelspec": {
   "display_name": "Python 3 (ipykernel)",
   "language": "python",
   "name": "python3"
  },
  "language_info": {
   "codemirror_mode": {
    "name": "ipython",
    "version": 3
   },
   "file_extension": ".py",
   "mimetype": "text/x-python",
   "name": "python",
   "nbconvert_exporter": "python",
   "pygments_lexer": "ipython3",
   "version": "3.10.19"
  }
 },
 "nbformat": 4,
 "nbformat_minor": 5
}
